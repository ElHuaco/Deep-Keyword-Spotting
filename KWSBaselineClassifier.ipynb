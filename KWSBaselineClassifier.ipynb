{
 "cells": [
  {
   "cell_type": "markdown",
   "id": "cf400b2c",
   "metadata": {},
   "source": [
    "# Keyword Spotting baseline classifier"
   ]
  },
  {
   "cell_type": "code",
   "execution_count": 1,
   "id": "c3aae7d4",
   "metadata": {
    "scrolled": true
   },
   "outputs": [
    {
     "name": "stdout",
     "output_type": "stream",
     "text": [
      "sklearn.__version__ = '1.2.0'\n"
     ]
    }
   ],
   "source": [
    "import numpy as np\n",
    "np.random.seed(1234)\n",
    "from utils import load_dataset_keywords\n",
    "import sklearn\n",
    "import pickle as pk\n",
    "print(f'{sklearn.__version__ = }')"
   ]
  },
  {
   "cell_type": "markdown",
   "id": "3502bc72",
   "metadata": {},
   "source": [
    "## Data loading"
   ]
  },
  {
   "cell_type": "code",
   "execution_count": 2,
   "id": "45de4112",
   "metadata": {},
   "outputs": [],
   "source": [
    "data_dir = 'speechdataset/processed_data'\n",
    "\n",
    "keywords = ['marvin', 'no', 'yes']\n",
    "\n",
    "categories = ['bed', 'down', 'forward', 'house', 'nine', 'one', 'six', 'tree', 'visual', 'bird', 'eight', \n",
    "              'four', 'learn', 'no','right', 'stop', 'two', 'wow', 'cat', 'five', 'go', 'left', 'off', \n",
    "              'seven', 'up', 'yes', 'backward', 'dog', 'follow', 'happy', 'marvin', 'on', 'sheila', 'three', 'zero']\n",
    "\n",
    "n_labels = len(keywords) + 1 # number of keywords + not a keyword\n",
    "# Best preprocessed data\n",
    "X_train, Y_train, X_test, Y_test = load_dataset_keywords(data_dir, keywords, categories, frames=66,\n",
    "                                                                 winlen=0.025, winstep=0.02, nfilt=26) # Time x Features x Number"
   ]
  },
  {
   "cell_type": "code",
   "execution_count": 3,
   "id": "7138cc9a",
   "metadata": {},
   "outputs": [
    {
     "name": "stdout",
     "output_type": "stream",
     "text": [
      "(66, 39, 89954) (89954,)\n"
     ]
    }
   ],
   "source": [
    "print(X_train.shape, Y_train.shape)"
   ]
  },
  {
   "cell_type": "markdown",
   "id": "90ccb995",
   "metadata": {},
   "source": [
    "## PCA + SVM as a baseline"
   ]
  },
  {
   "cell_type": "code",
   "execution_count": 4,
   "id": "a913c063",
   "metadata": {
    "scrolled": true
   },
   "outputs": [
    {
     "name": "stdout",
     "output_type": "stream",
     "text": [
      "Variance explained with 257 dimensions: 92.63 %\n"
     ]
    },
    {
     "name": "stderr",
     "output_type": "stream",
     "text": [
      "[Parallel(n_jobs=15)]: Using backend LokyBackend with 15 concurrent workers.\n",
      "[Parallel(n_jobs=15)]: Done   2 out of   4 | elapsed:  1.9min remaining:  1.9min\n",
      "[Parallel(n_jobs=15)]: Done   4 out of   4 | elapsed:  2.7min remaining:    0.0s\n",
      "[Parallel(n_jobs=15)]: Done   4 out of   4 | elapsed:  2.7min finished\n"
     ]
    },
    {
     "name": "stdout",
     "output_type": "stream",
     "text": [
      "PCA + SVM accuracy:\t 88.89 %\n",
      "Random label accuracy:\t 25.00 %\n"
     ]
    }
   ],
   "source": [
    "from sklearn.decomposition import PCA\n",
    "from sklearn.svm import LinearSVC\n",
    "from sklearn.multiclass import OneVsRestClassifier\n",
    "import time\n",
    "\n",
    "kept_dimensions = int(0.1 * (X_train.shape[0] * X_train.shape[1])) \n",
    "pca = PCA(kept_dimensions)\n",
    "# Need Number x (Time * Features) shape for PCA\n",
    "Z_train = pca.fit_transform(X_train.transpose(2, 0, 1).reshape(X_train.shape[2], X_train.shape[0] * X_train.shape[1]))\n",
    "print(f'Variance explained with {kept_dimensions} dimensions: {100 * sum(pca.explained_variance_ratio_):2.2f} %')\n",
    "Z_test = pca.transform(X_test.transpose(2, 0, 1).reshape(X_test.shape[2], X_test.shape[0] * X_test.shape[1]))\n",
    "# SVM for multiclass One-vs-Rest\n",
    "svm = LinearSVC()\n",
    "baseline_classifier = OneVsRestClassifier(svm, verbose=5, n_jobs=15)\n",
    "baseline_classifier.fit(Z_train, Y_train)\n",
    "prediction = baseline_classifier.predict(Z_test)\n",
    "# Measure performance\n",
    "count = 0\n",
    "for idx, label in enumerate(prediction):\n",
    "    if label == Y_test[idx]:\n",
    "        count += 1\n",
    "acc = 100 * count / len(Y_test)\n",
    "time.sleep(3)\n",
    "print(f'PCA + SVM accuracy:\\t {acc:2.2f} %')\n",
    "print(f'Random label accuracy:\\t {100 / n_labels:2.2f} %')"
   ]
  },
  {
   "cell_type": "code",
   "execution_count": 5,
   "id": "bea43f9b",
   "metadata": {},
   "outputs": [],
   "source": [
    "# Save model\n",
    "pk.dump(pca, open(f\"pca_{kept_dimensions}dim_best_preprocess.pkl\",\"wb\"))\n",
    "pk.dump(baseline_classifier, open(f\"baselineClassifier_{kept_dimensions}dim_best_preprocess.pkl\",\"wb\"))"
   ]
  },
  {
   "cell_type": "code",
   "execution_count": 6,
   "id": "b04423d5",
   "metadata": {},
   "outputs": [
    {
     "name": "stdout",
     "output_type": "stream",
     "text": [
      "Variance explained with 25 dimensions: 49.34 %\n"
     ]
    },
    {
     "name": "stderr",
     "output_type": "stream",
     "text": [
      "[Parallel(n_jobs=15)]: Using backend LokyBackend with 15 concurrent workers.\n",
      "[Parallel(n_jobs=15)]: Done   2 out of   4 | elapsed:   26.9s remaining:   26.9s\n",
      "[Parallel(n_jobs=15)]: Done   4 out of   4 | elapsed:   35.3s remaining:    0.0s\n",
      "[Parallel(n_jobs=15)]: Done   4 out of   4 | elapsed:   35.3s finished\n"
     ]
    },
    {
     "name": "stdout",
     "output_type": "stream",
     "text": [
      "PCA + SVM accuracy:\t 86.35 %\n",
      "Random label accuracy:\t 25.00 %\n"
     ]
    }
   ],
   "source": [
    "from sklearn.decomposition import PCA\n",
    "from sklearn.svm import LinearSVC\n",
    "from sklearn.multiclass import OneVsRestClassifier\n",
    "import time\n",
    "\n",
    "kept_dimensions = int(0.01 * (X_train.shape[0] * X_train.shape[1])) \n",
    "pca = PCA(kept_dimensions)\n",
    "# Need Number x (Time * Features) shape for PCA\n",
    "Z_train = pca.fit_transform(X_train.transpose(2, 0, 1).reshape(X_train.shape[2], X_train.shape[0] * X_train.shape[1]))\n",
    "print(f'Variance explained with {kept_dimensions} dimensions: {100 * sum(pca.explained_variance_ratio_):2.2f} %')\n",
    "Z_test = pca.transform(X_test.transpose(2, 0, 1).reshape(X_test.shape[2], X_test.shape[0] * X_test.shape[1]))\n",
    "# SVM for multiclass One-vs-Rest\n",
    "svm = LinearSVC()\n",
    "baseline_classifier = OneVsRestClassifier(svm, verbose=5, n_jobs=15)\n",
    "baseline_classifier.fit(Z_train, Y_train)\n",
    "prediction = baseline_classifier.predict(Z_test)\n",
    "# Measure performance\n",
    "count = 0\n",
    "for idx, label in enumerate(prediction):\n",
    "    if label == Y_test[idx]:\n",
    "        count += 1\n",
    "acc = 100 * count / len(Y_test)\n",
    "time.sleep(3)\n",
    "print(f'PCA + SVM accuracy:\\t {acc:2.2f} %')\n",
    "print(f'Random label accuracy:\\t {100 / n_labels:2.2f} %')"
   ]
  },
  {
   "cell_type": "code",
   "execution_count": 7,
   "id": "fc2ef988",
   "metadata": {},
   "outputs": [],
   "source": [
    "# Save model\n",
    "pk.dump(pca, open(f\"pca_{kept_dimensions}dim_best_preprocess.pkl\",\"wb\"))\n",
    "pk.dump(baseline_classifier, open(f\"baselineClassifier_{kept_dimensions}dim_best_preprocess.pkl\",\"wb\"))"
   ]
  },
  {
   "cell_type": "code",
   "execution_count": 9,
   "id": "75f9901d",
   "metadata": {},
   "outputs": [
    {
     "name": "stdout",
     "output_type": "stream",
     "text": [
      "PCA + SVM accuracy:\t 88.89 %\n",
      "Random label accuracy:\t 25.00 %\n"
     ]
    }
   ],
   "source": [
    "# Load saved model\n",
    "pca_reload = pk.load(open('pca_257dim_best_preprocess.pkl','rb'))\n",
    "Z_test = pca_reload.transform(X_test.transpose(2, 0, 1).reshape(X_test.shape[2], X_test.shape[0] * X_test.shape[1]))\n",
    "BClassifier = pk.load(open('baselineClassifier_257dim_best_preprocess.pkl', 'rb'))\n",
    "prediction = BClassifier.predict(Z_test)\n",
    "\n",
    "# Measure performance\n",
    "count = 0\n",
    "for idx, label in enumerate(prediction):\n",
    "    if label == Y_test[idx]:\n",
    "        count += 1\n",
    "acc = 100 * count / len(Y_test)\n",
    "time.sleep(3)\n",
    "print(f'PCA + SVM accuracy:\\t {acc:2.2f} %')\n",
    "print(f'Random label accuracy:\\t {100 / n_labels:2.2f} %')"
   ]
  },
  {
   "cell_type": "code",
   "execution_count": null,
   "id": "9c44046d",
   "metadata": {},
   "outputs": [],
   "source": []
  }
 ],
 "metadata": {
  "kernelspec": {
   "display_name": "Python 3 (ipykernel)",
   "language": "python",
   "name": "python3"
  },
  "language_info": {
   "codemirror_mode": {
    "name": "ipython",
    "version": 3
   },
   "file_extension": ".py",
   "mimetype": "text/x-python",
   "name": "python",
   "nbconvert_exporter": "python",
   "pygments_lexer": "ipython3",
   "version": "3.8.10"
  }
 },
 "nbformat": 4,
 "nbformat_minor": 5
}

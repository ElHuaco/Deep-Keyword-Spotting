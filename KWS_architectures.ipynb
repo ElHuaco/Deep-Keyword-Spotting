{
 "cells": [
  {
   "cell_type": "markdown",
   "id": "1f58f176",
   "metadata": {},
   "source": [
    "# Keyword Spotting with different architectures"
   ]
  },
  {
   "cell_type": "code",
   "execution_count": 14,
   "id": "341fb838",
   "metadata": {},
   "outputs": [],
   "source": [
    "import numpy as np\n",
    "np.random.seed(1234)\n",
    "\n",
    "from os.path import join as pjoin\n",
    "import tensorflow as tf\n",
    "from tensorflow.keras.models import Model, load_model\n",
    "from tensorflow.keras.initializers import glorot_uniform\n",
    "from utils import load_dataset\n",
    "CHECKPOINTS_PATH = 'checkPoints/'"
   ]
  },
  {
   "cell_type": "markdown",
   "id": "fa1f869b",
   "metadata": {},
   "source": [
    "## Data loading"
   ]
  },
  {
   "cell_type": "code",
   "execution_count": 2,
   "id": "d659152b",
   "metadata": {},
   "outputs": [],
   "source": [
    "data_dir = 'speechdataset/processed_data'\n",
    "keywords = ['bed', 'down', 'forward', 'house', 'nine', 'one', 'six', 'tree']\n",
    "n_words = len(keywords)\n",
    "\n",
    "X_train, Y_train, X_test, Y_test = load_dataset(data_dir, keywords)"
   ]
  },
  {
   "cell_type": "code",
   "execution_count": 3,
   "id": "2f56c410",
   "metadata": {},
   "outputs": [
    {
     "name": "stdout",
     "output_type": "stream",
     "text": [
      "(99, 39, 19587) (19587,)\n"
     ]
    }
   ],
   "source": [
    "print(X_train.shape, Y_train.shape)"
   ]
  },
  {
   "cell_type": "markdown",
   "id": "87b65bae",
   "metadata": {},
   "source": [
    "## Convolutional Neural Network Architecture"
   ]
  },
  {
   "cell_type": "code",
   "execution_count": 4,
   "id": "b40ca974",
   "metadata": {},
   "outputs": [
    {
     "data": {
      "text/plain": [
       "\"\\nclass KWS_CNN(tf.keras.Model):\\n    \\n    def __init__(self):\\n        super().__init__()\\n        self.conv1 = tf.keras.layers.Conv2D(filters=94, kernel_size=(66,8), strides = (1,1), \\n                                            padding = 'valid', kernel_initializer = glorot_uniform(seed=0))\\n        self.conv2 = tf.keras.layers.Conv2D(filters=94, kernel_size=(20,4), strides = (1,1), \\n                               padding = 'valid', kernel_initializer = glorot_uniform(seed=0))\\n        self.maxpool = tf.keras.layers.MaxPooling2D(pool_size=(2,3), strides=(2,3), padding='valid')\\n        self.act = tf.keras.layers.Activation('relu')\\n        self.lin = tf.keras.layers.Dense(99)\\n        self.dens = tf.keras.layers.Dense(396, activation='sigmoid')\\n        self.softmx = tf.keras.layers.Softmax()\\n        self.flat = tf.keras.layers.Flatten()\\n        self.dropout = tf.keras.layers.Dropout(0.5)\\n    \\n    # forward pass\\n    def call(self, inputs, dropout=False):\\n        x = self.conv1(inputs)\\n        #if dropout:\\n            #x = self.dropout(x)\\n        x = self.maxpool(x)\\n        x = self.act(x)\\n        x = self.conv2(x)\\n        x = self.act(x)\\n        x = self.flat(x)\\n        x = self.lin(x)\\n        x = self.dens(x)   \\n        return self.softmx(x)\\n    \\n    #loss\\n    def compute_loss(self, x, y, y_pred)\\n    \""
      ]
     },
     "execution_count": 4,
     "metadata": {},
     "output_type": "execute_result"
    }
   ],
   "source": [
    "\"\"\"\n",
    "class KWS_CNN(tf.keras.Model):\n",
    "    \n",
    "    def __init__(self):\n",
    "        super().__init__()\n",
    "        self.conv1 = tf.keras.layers.Conv2D(filters=94, kernel_size=(66,8), strides = (1,1), \n",
    "                                            padding = 'valid', kernel_initializer = glorot_uniform(seed=0))\n",
    "        self.conv2 = tf.keras.layers.Conv2D(filters=94, kernel_size=(20,4), strides = (1,1), \n",
    "                               padding = 'valid', kernel_initializer = glorot_uniform(seed=0))\n",
    "        self.maxpool = tf.keras.layers.MaxPooling2D(pool_size=(2,3), strides=(2,3), padding='valid')\n",
    "        self.act = tf.keras.layers.Activation('relu')\n",
    "        self.lin = tf.keras.layers.Dense(99)\n",
    "        self.dens = tf.keras.layers.Dense(396, activation='sigmoid')\n",
    "        self.softmx = tf.keras.layers.Softmax()\n",
    "        self.flat = tf.keras.layers.Flatten()\n",
    "        self.dropout = tf.keras.layers.Dropout(0.5)\n",
    "    \n",
    "    # forward pass\n",
    "    def call(self, inputs, dropout=False):\n",
    "        x = self.conv1(inputs)\n",
    "        #if dropout:\n",
    "            #x = self.dropout(x)\n",
    "        x = self.maxpool(x)\n",
    "        x = self.act(x)\n",
    "        x = self.conv2(x)\n",
    "        x = self.act(x)\n",
    "        x = self.flat(x)\n",
    "        x = self.lin(x)\n",
    "        x = self.dens(x)   \n",
    "        return self.softmx(x)\n",
    "    \n",
    "    #loss\n",
    "    def compute_loss(self, x, y, y_pred)\n",
    "    \"\"\""
   ]
  },
  {
   "cell_type": "code",
   "execution_count": 10,
   "id": "decd1fc9",
   "metadata": {},
   "outputs": [],
   "source": [
    "def KWS_CNN_model(input_shape):\n",
    "    \"\"\"\n",
    "    Arguments:\n",
    "    :param input_shape: shape of the data of the dataset\n",
    "\n",
    "    :returns Model: a tf.keras.Model() instance\n",
    "    \"\"\"\n",
    "    \n",
    "    X_input = tf.keras.Input(input_shape)\n",
    "    n_frames = input_shape[0]\n",
    "    \n",
    "    # CONV -> pooling -> CONV -> lin -> Dense?\n",
    "    # First convolution\n",
    "    X = tf.keras.layers.Conv2D(filters=94, kernel_size=(int(2*n_frames/3),8), strides = (1,1), \n",
    "                               padding = 'same', name='First_Conv')(X_input)\n",
    "    #Dropout\n",
    "    #X = Dropout(rate = 0.2)(X)\n",
    "    \n",
    "    #Pooling on time and frequency\n",
    "    X = tf.keras.layers.MaxPooling2D(pool_size=(2,3), strides=(2,3), padding='valid', name='MaxPooling')(X)\n",
    "    X = tf.keras.layers.Activation('relu')(X)\n",
    "    \n",
    "    #Second convolution\n",
    "    X = tf.keras.layers.Conv2D(filters=94, kernel_size=(int(n_frames/5),4), strides = (1,1), \n",
    "                               padding = 'same', name='Second_Conv')(X)\n",
    "    #Dropout\n",
    "    #X = Dropout(rate = 0.2)(X)\n",
    "    \n",
    "    X = tf.keras.layers.Activation('relu')(X)\n",
    "    \n",
    "    # Linear layer\n",
    "    X = tf.keras.layers.Flatten()(X)\n",
    "    X = tf.keras.layers.Dense(32, name='Linear')(X)\n",
    "    \n",
    "    # Dense layer\n",
    "    X = tf.keras.layers.Dense(128, activation='relu', name='Dense1')(X)\n",
    "    X = tf.keras.layers.Dense(128, activation='relu', name='Dense2')(X)\n",
    "    X = tf.keras.layers.Dense(128, activation='relu', name='Dense3')(X)  \n",
    "    \n",
    "    # Softmax\n",
    "    X = tf.keras.layers.Dense(n_words, activation='softmax', name='Softmax')(X)\n",
    "    \n",
    "    # MODEL\n",
    "    model = Model(inputs = X_input, outputs = X, name='KWS_CNN')\n",
    "    \n",
    "    return model"
   ]
  },
  {
   "cell_type": "code",
   "execution_count": 11,
   "id": "35900339",
   "metadata": {},
   "outputs": [
    {
     "name": "stdout",
     "output_type": "stream",
     "text": [
      "Model: \"KWS_CNN\"\n",
      "_________________________________________________________________\n",
      " Layer (type)                Output Shape              Param #   \n",
      "=================================================================\n",
      " input_2 (InputLayer)        [(None, 99, 39, 1)]       0         \n",
      "                                                                 \n",
      " First_Conv (Conv2D)         (None, 99, 39, 94)        49726     \n",
      "                                                                 \n",
      " MaxPooling (MaxPooling2D)   (None, 49, 13, 94)        0         \n",
      "                                                                 \n",
      " activation_2 (Activation)   (None, 49, 13, 94)        0         \n",
      "                                                                 \n",
      " Second_Conv (Conv2D)        (None, 49, 13, 94)        671630    \n",
      "                                                                 \n",
      " activation_3 (Activation)   (None, 49, 13, 94)        0         \n",
      "                                                                 \n",
      " flatten_1 (Flatten)         (None, 59878)             0         \n",
      "                                                                 \n",
      " Linear (Dense)              (None, 32)                1916128   \n",
      "                                                                 \n",
      " Dense1 (Dense)              (None, 128)               4224      \n",
      "                                                                 \n",
      " Dense2 (Dense)              (None, 128)               16512     \n",
      "                                                                 \n",
      " Dense3 (Dense)              (None, 128)               16512     \n",
      "                                                                 \n",
      " Softmax (Dense)             (None, 8)                 1032      \n",
      "                                                                 \n",
      "=================================================================\n",
      "Total params: 2,675,764\n",
      "Trainable params: 2,675,764\n",
      "Non-trainable params: 0\n",
      "_________________________________________________________________\n"
     ]
    }
   ],
   "source": [
    "model = KWS_CNN_model((99,39,1))\n",
    "model.summary()"
   ]
  },
  {
   "cell_type": "code",
   "execution_count": 18,
   "id": "c8990a1e",
   "metadata": {},
   "outputs": [],
   "source": [
    "model.compile(optimizer=\"adam\", loss=tf.keras.losses.CategoricalCrossentropy(), metrics=[\"accuracy\"])"
   ]
  },
  {
   "cell_type": "code",
   "execution_count": null,
   "id": "9b864d5d",
   "metadata": {},
   "outputs": [],
   "source": [
    "# Train the model\n",
    "early_stop_callback = tf.keras.callbacks.EarlyStopping(monitor='val_loss', patience=5)\n",
    "\n",
    "# Fit\n",
    "#history = model.fit(np.transpose(X_train, [2,0,1]), Y_train, epochs=num_epochs, validation_split=0.1, callbacks=[early_stop_callback])\n",
    "\n",
    "una_jota = tf.one_hot(Y_train, 8, 1, 0)\n",
    "print(una_jota)\n",
    "history = model.fit(np.transpose(X_train, [2,0,1]), una_jota , epochs=100, batch_size=10,\n",
    "                    validation_split=0.1)"
   ]
  },
  {
   "cell_type": "code",
   "execution_count": null,
   "id": "8b9baa25",
   "metadata": {},
   "outputs": [],
   "source": [
    "model.save_weights(CHECKPOINTS_PATH)"
   ]
  },
  {
   "cell_type": "code",
   "execution_count": 21,
   "id": "9d75974b",
   "metadata": {},
   "outputs": [
    {
     "name": "stdout",
     "output_type": "stream",
     "text": [
      "109/109 - 49s - loss: 2.0072 - accuracy: 0.1675 - 49s/epoch - 446ms/step\n",
      "Restored model, accuracy: 16.75%\n"
     ]
    }
   ],
   "source": [
    "# Loads the weights\n",
    "model.load_weights(CHECKPOINTS_PATH)\n",
    "\n",
    "# Re-evaluate the model\n",
    "loss, acc = model.evaluate(np.transpose(X_test, [2,0,1]), tf.one_hot(Y_test, 8, 1, 0), verbose=2)\n",
    "print(\"Restored model, accuracy: {:5.2f}%\".format(100 * acc))"
   ]
  },
  {
   "cell_type": "markdown",
   "id": "131055a0",
   "metadata": {},
   "source": [
    "## Clustering, RNN, ..."
   ]
  },
  {
   "cell_type": "code",
   "execution_count": null,
   "id": "4778417b",
   "metadata": {},
   "outputs": [],
   "source": [
    "model"
   ]
  }
 ],
 "metadata": {
  "kernelspec": {
   "display_name": "Python 3 (ipykernel)",
   "language": "python",
   "name": "python3"
  },
  "language_info": {
   "codemirror_mode": {
    "name": "ipython",
    "version": 3
   },
   "file_extension": ".py",
   "mimetype": "text/x-python",
   "name": "python",
   "nbconvert_exporter": "python",
   "pygments_lexer": "ipython3",
   "version": "3.8.10"
  }
 },
 "nbformat": 4,
 "nbformat_minor": 5
}

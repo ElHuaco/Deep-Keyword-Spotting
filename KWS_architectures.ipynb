{
 "cells": [
  {
   "cell_type": "markdown",
   "id": "1f58f176",
   "metadata": {},
   "source": [
    "# Keyword Spotting with different architectures"
   ]
  },
  {
   "cell_type": "code",
   "execution_count": 3,
   "id": "341fb838",
   "metadata": {},
   "outputs": [],
   "source": [
    "import numpy as np\n",
    "np.random.seed(1234)\n",
    "\n",
    "from os.path import join as pjoin\n",
    "from pathlib import Path\n",
    "import tensorflow as tf\n",
    "from tensorflow.keras.models import Model, load_model\n",
    "from tensorflow.keras.initializers import glorot_uniform\n",
    "from utils import load_dataset, load_dataset_keywords\n",
    "CHECKPOINTS_PATH = 'models/'"
   ]
  },
  {
   "cell_type": "markdown",
   "id": "87b65bae",
   "metadata": {},
   "source": [
    "## Convolutional Neural Network Architecture"
   ]
  },
  {
   "cell_type": "code",
   "execution_count": 5,
   "id": "decd1fc9",
   "metadata": {},
   "outputs": [],
   "source": [
    "def KWS_CNN_model(input_shape):\n",
    "    \"\"\"\n",
    "    Arguments:\n",
    "    :param input_shape: shape of the data of the dataset\n",
    "\n",
    "    :returns Model: a tf.keras.Model() instance\n",
    "    \"\"\"\n",
    "    \n",
    "    X_input = tf.keras.Input(input_shape)\n",
    "    n_frames = input_shape[0]\n",
    "    \n",
    "    # CONV -> pooling -> CONV -> lin -> Dense?\n",
    "    # First convolution\n",
    "    X = tf.keras.layers.Conv2D(filters=94, kernel_size=(int(2*n_frames/3),8), strides = (1,1), \n",
    "                               padding = 'same', name='First_Conv')(X_input)\n",
    "    #Dropout\n",
    "    #X = Dropout(rate = 0.2)(X)\n",
    "    \n",
    "    #Pooling on time and frequency\n",
    "    X = tf.keras.layers.MaxPooling2D(pool_size=(2,3), strides=(2,3), padding='valid', name='MaxPooling')(X)\n",
    "    X = tf.keras.layers.Activation('relu')(X)\n",
    "    \n",
    "    #Second convolution\n",
    "    X = tf.keras.layers.Conv2D(filters=94, kernel_size=(int(n_frames/5),4), strides = (1,1), \n",
    "                               padding = 'same', name='Second_Conv')(X)\n",
    "    #Dropout\n",
    "    #X = Dropout(rate = 0.2)(X)\n",
    "    \n",
    "    X = tf.keras.layers.Activation('relu')(X)\n",
    "    \n",
    "    # Linear layer\n",
    "    X = tf.keras.layers.Flatten()(X)\n",
    "    X = tf.keras.layers.Dense(32, name='Linear')(X)\n",
    "    \n",
    "    # Dense layer\n",
    "    X = tf.keras.layers.Dense(128, activation='relu', name='Dense1')(X)\n",
    "    X = tf.keras.layers.Dense(128, activation='relu', name='Dense2')(X)\n",
    "    X = tf.keras.layers.Dense(128, activation='relu', name='Dense3')(X)  \n",
    "    \n",
    "    # Softmax\n",
    "    X = tf.keras.layers.Dense(4, activation='softmax', name='Softmax')(X)\n",
    "    \n",
    "    # MODEL\n",
    "    model = Model(inputs = X_input, outputs = X, name='KWS_CNN')\n",
    "    \n",
    "    return model"
   ]
  },
  {
   "cell_type": "code",
   "execution_count": 3,
   "id": "35900339",
   "metadata": {},
   "outputs": [
    {
     "name": "stdout",
     "output_type": "stream",
     "text": [
      "Model: \"KWS_CNN\"\n",
      "_________________________________________________________________\n",
      " Layer (type)                Output Shape              Param #   \n",
      "=================================================================\n",
      " input_1 (InputLayer)        [(None, 99, 39, 1)]       0         \n",
      "                                                                 \n",
      " First_Conv (Conv2D)         (None, 99, 39, 94)        49726     \n",
      "                                                                 \n",
      " MaxPooling (MaxPooling2D)   (None, 49, 13, 94)        0         \n",
      "                                                                 \n",
      " activation (Activation)     (None, 49, 13, 94)        0         \n",
      "                                                                 \n",
      " Second_Conv (Conv2D)        (None, 49, 13, 94)        671630    \n",
      "                                                                 \n",
      " activation_1 (Activation)   (None, 49, 13, 94)        0         \n",
      "                                                                 \n",
      " flatten (Flatten)           (None, 59878)             0         \n",
      "                                                                 \n",
      " Linear (Dense)              (None, 32)                1916128   \n",
      "                                                                 \n",
      " Dense1 (Dense)              (None, 128)               4224      \n",
      "                                                                 \n",
      " Dense2 (Dense)              (None, 128)               16512     \n",
      "                                                                 \n",
      " Dense3 (Dense)              (None, 128)               16512     \n",
      "                                                                 \n",
      " Softmax (Dense)             (None, 4)                 516       \n",
      "                                                                 \n",
      "=================================================================\n",
      "Total params: 2,675,248\n",
      "Trainable params: 2,675,248\n",
      "Non-trainable params: 0\n",
      "_________________________________________________________________\n"
     ]
    },
    {
     "name": "stderr",
     "output_type": "stream",
     "text": [
      "2022-12-18 12:06:19.353184: I tensorflow/compiler/xla/stream_executor/cuda/cuda_gpu_executor.cc:981] successful NUMA node read from SysFS had negative value (-1), but there must be at least one NUMA node, so returning NUMA node zero\n",
      "2022-12-18 12:06:19.354816: W tensorflow/compiler/xla/stream_executor/platform/default/dso_loader.cc:64] Could not load dynamic library 'libcudart.so.11.0'; dlerror: libcudart.so.11.0: cannot open shared object file: No such file or directory\n",
      "2022-12-18 12:06:19.354883: W tensorflow/compiler/xla/stream_executor/platform/default/dso_loader.cc:64] Could not load dynamic library 'libcublas.so.11'; dlerror: libcublas.so.11: cannot open shared object file: No such file or directory\n",
      "2022-12-18 12:06:19.354923: W tensorflow/compiler/xla/stream_executor/platform/default/dso_loader.cc:64] Could not load dynamic library 'libcublasLt.so.11'; dlerror: libcublasLt.so.11: cannot open shared object file: No such file or directory\n",
      "2022-12-18 12:06:19.389303: W tensorflow/compiler/xla/stream_executor/platform/default/dso_loader.cc:64] Could not load dynamic library 'libcusparse.so.11'; dlerror: libcusparse.so.11: cannot open shared object file: No such file or directory\n",
      "2022-12-18 12:06:19.389374: W tensorflow/compiler/xla/stream_executor/platform/default/dso_loader.cc:64] Could not load dynamic library 'libcudnn.so.8'; dlerror: libcudnn.so.8: cannot open shared object file: No such file or directory\n",
      "2022-12-18 12:06:19.389388: W tensorflow/core/common_runtime/gpu/gpu_device.cc:1934] Cannot dlopen some GPU libraries. Please make sure the missing libraries mentioned above are installed properly if you would like to use GPU. Follow the guide at https://www.tensorflow.org/install/gpu for how to download and setup the required libraries for your platform.\n",
      "Skipping registering GPU devices...\n",
      "2022-12-18 12:06:19.390106: I tensorflow/core/platform/cpu_feature_guard.cc:193] This TensorFlow binary is optimized with oneAPI Deep Neural Network Library (oneDNN) to use the following CPU instructions in performance-critical operations:  AVX2 AVX512F AVX512_VNNI FMA\n",
      "To enable them in other operations, rebuild TensorFlow with the appropriate compiler flags.\n"
     ]
    }
   ],
   "source": [
    "model = KWS_CNN_model((frames,39,1))\n",
    "model.summary()"
   ]
  },
  {
   "cell_type": "code",
   "execution_count": 4,
   "id": "c8990a1e",
   "metadata": {},
   "outputs": [],
   "source": [
    "model.compile(optimizer=\"adam\", loss=tf.keras.losses.CategoricalCrossentropy(), metrics=[\"accuracy\"])"
   ]
  },
  {
   "cell_type": "markdown",
   "id": "131055a0",
   "metadata": {},
   "source": [
    "## Training for different preprocessing parameters"
   ]
  },
  {
   "cell_type": "code",
   "execution_count": 6,
   "id": "0b02fa58",
   "metadata": {},
   "outputs": [],
   "source": [
    "data_dir = 'speechdataset/processed_data'\n",
    "\n",
    "keywords = ['marvin', 'no', 'yes']\n",
    "\n",
    "categories = ['bed', 'down', 'forward', 'house', 'nine', 'one', 'six', 'tree', 'visual', 'bird', 'eight', \n",
    "              'four', 'learn', 'no','right', 'stop', 'two', 'wow', 'cat', 'five', 'go', 'left', 'off', \n",
    "              'seven', 'up', 'yes', 'backward', 'dog', 'follow', 'happy', 'marvin', 'on', 'sheila', 'three', 'zero']\n",
    "\n",
    "n_labels = len(keywords) + 1 # number of keywords + not a keyword"
   ]
  },
  {
   "cell_type": "code",
   "execution_count": null,
   "id": "4778417b",
   "metadata": {},
   "outputs": [
    {
     "name": "stdout",
     "output_type": "stream",
     "text": [
      "Training with preproessing parameters: wlen 25.0ms, wstep 20.0ms, 26 filters\n",
      "Dataset loaded\n",
      "Epoch 1/5\n",
      "8096/8096 [==============================] - 1135s 140ms/step - loss: 0.3284 - accuracy: 0.9194 - val_loss: 0.2474 - val_accuracy: 0.9306\n",
      "Epoch 2/5\n",
      "8096/8096 [==============================] - 1126s 139ms/step - loss: 0.2348 - accuracy: 0.9342 - val_loss: 0.2418 - val_accuracy: 0.9265\n",
      "Epoch 3/5\n",
      "8096/8096 [==============================] - 1108s 137ms/step - loss: 0.1964 - accuracy: 0.9435 - val_loss: 0.1944 - val_accuracy: 0.9430\n",
      "Epoch 4/5\n",
      "8096/8096 [==============================] - 1165s 144ms/step - loss: 0.1735 - accuracy: 0.9491 - val_loss: 0.2086 - val_accuracy: 0.9362\n"
     ]
    },
    {
     "name": "stderr",
     "output_type": "stream",
     "text": [
      "WARNING:absl:Found untraced functions such as _jit_compiled_convolution_op, _jit_compiled_convolution_op, _update_step_xla while saving (showing 3 of 3). These functions will not be directly callable after loading.\n"
     ]
    },
    {
     "name": "stdout",
     "output_type": "stream",
     "text": [
      "INFO:tensorflow:Assets written to: checkPoints/weights_25ms_20ms_26/assets\n"
     ]
    },
    {
     "name": "stderr",
     "output_type": "stream",
     "text": [
      "INFO:tensorflow:Assets written to: checkPoints/weights_25ms_20ms_26/assets\n"
     ]
    },
    {
     "name": "stdout",
     "output_type": "stream",
     "text": [
      "497/497 - 97s - loss: 0.1962 - accuracy: 0.9379 - 97s/epoch - 195ms/step\n",
      "Test accuracy: 93.79%\n",
      "Training with preproessing parameters: wlen 25.0ms, wstep 5.0ms, 26 filters\n",
      "Dataset loaded\n",
      "Epoch 1/5\n",
      "3103/8096 [==========>...................] - ETA: 1:36:52 - loss: 0.6186 - accuracy: 0.9034"
     ]
    }
   ],
   "source": [
    "# Parameters\n",
    "windows = [(0.025, 0.02, 66), (0.025, 0.005, 197), (0.030, 0.01, 99)] # s\n",
    "num_filters_s = [26]\n",
    "\n",
    "# Early stopping criteria\n",
    "early_stop_callback = tf.keras.callbacks.EarlyStopping(monitor='val_loss', min_delta=1e-5, patience=1)\n",
    "\n",
    "# Save initial weights\n",
    "model.save_weights(pjoin(CHECKPOINTS_PATH, 'initial_weights.h5'))\n",
    "\n",
    "# Go through all the available files and find their audio features\n",
    "for window_len, window_step, frames in windows:\n",
    "    for num_filt in num_filters_s:\n",
    "        print(f'Training with preproessing parameters: wlen {window_len*1000}ms, wstep {window_step*1000}ms, {num_filt} filters')\n",
    "        # Load data\n",
    "        X_train, Y_train, X_test, Y_test = load_dataset_keywords(data_dir, keywords, categories, frames=frames,\n",
    "                                                                 winlen=window_len, winstep=window_step, nfilt=num_filt)\n",
    "        print('Dataset loaded')\n",
    "\n",
    "        # Train the model\n",
    "        model = KWS_CNN_model((frames,39,1))\n",
    "        model.compile(optimizer=\"adam\", loss=tf.keras.losses.CategoricalCrossentropy(), metrics=[\"accuracy\"])\n",
    "        \n",
    "        model.fit(np.transpose(X_train, [2,0,1]), tf.one_hot(Y_train, n_labels, 1, 0), epochs=5, batch_size=10,\n",
    "                            validation_split=0.1, callbacks=[early_stop_callback])\n",
    "\n",
    "        model.save(pjoin(CHECKPOINTS_PATH, f'CNNmodel_{int(window_len*1000)}ms_{int(window_step*1000)}ms_{num_filt}'))\n",
    "\n",
    "        loss, acc = model.evaluate(np.transpose(X_test, [2,0,1]), tf.one_hot(Y_test, n_labels, 1, 0), verbose=2)\n",
    "        print(\"Test accuracy: {:5.2f}%\".format(100 * acc))"
   ]
  },
  {
   "cell_type": "code",
   "execution_count": null,
   "id": "e755a05e",
   "metadata": {},
   "outputs": [],
   "source": [
    "PATH = Path(CHECKPOINTS_PATH)\n",
    "for model in PATH.glob('CNNmodel*'):\n",
    "    print(model)"
   ]
  },
  {
   "cell_type": "code",
   "execution_count": 9,
   "id": "77f878ce",
   "metadata": {},
   "outputs": [
    {
     "name": "stdout",
     "output_type": "stream",
     "text": [
      "Preprocessing parameters: wlen 20.0ms, wstep 10.0ms, 26 filters\n",
      "497/497 - 216s - loss: 0.4225 - accuracy: 0.9036 - 216s/epoch - 436ms/step\n",
      "Test accuracy: 90.35590291% \n",
      "\n",
      "Preprocessing parameters: wlen 25.0ms, wstep 20.0ms, 26 filters\n",
      "497/497 - 96s - loss: 0.1882 - accuracy: 0.9413 - 96s/epoch - 194ms/step\n",
      "Test accuracy: 94.12913322% \n",
      "\n",
      "Preprocessing parameters: wlen 25.0ms, wstep 5.0ms, 26 filters\n",
      "497/497 - 912s - loss: 0.4113 - accuracy: 0.9058 - 912s/epoch - 2s/step\n",
      "Test accuracy: 90.57638049% \n",
      "\n",
      "Preprocessing parameters: wlen 30.0ms, wstep 10.0ms, 26 filters\n",
      "497/497 - 219s - loss: 0.4064 - accuracy: 0.9077 - 219s/epoch - 440ms/step\n",
      "Test accuracy: 90.77165127% \n",
      "\n",
      "Preprocessing parameters: wlen 25.0ms, wstep 10.0ms, 26 filters\n",
      "497/497 - 213s - loss: 0.4156 - accuracy: 0.9054 - 213s/epoch - 429ms/step\n",
      "Test accuracy: 90.54487944% \n",
      "\n",
      "Preprocessing parameters: wlen 25.0ms, wstep 10.0ms, 30 filters\n",
      "497/497 - 216s - loss: 0.4136 - accuracy: 0.9055 - 216s/epoch - 435ms/step\n",
      "Test accuracy: 90.55117965% \n",
      "\n",
      "Preprocessing parameters: wlen 25.0ms, wstep 10.0ms, 40 filters\n",
      "497/497 - 216s - loss: 0.4156 - accuracy: 0.9053 - 216s/epoch - 434ms/step\n",
      "Test accuracy: 90.52598476% \n",
      "\n",
      "Preprocessing parameters: wlen 25.0ms, wstep 10.0ms, 20 filters\n",
      "497/497 - 213s - loss: 0.4161 - accuracy: 0.9046 - 213s/epoch - 428ms/step\n",
      "Test accuracy: 90.45669436% \n",
      "\n"
     ]
    }
   ],
   "source": [
    "params = [(0.02, 0.01, 99, 26), (0.025, 0.02, 66, 26), (0.025, 0.005, 197, 26), (0.030, 0.01, 99, 26),\n",
    "         (0.025, 0.01, 99, 26), (0.025, 0.01, 99, 30), (0.025, 0.01, 99, 40), (0.025, 0.01, 99, 20)] # s\n",
    "\n",
    "for window_len, window_step, frames, num_filt in params:\n",
    "    print(f'Preprocessing parameters: wlen {window_len*1000}ms, wstep {window_step*1000}ms, {num_filt} filters')\n",
    "    _, _, X_test, Y_test = load_dataset_keywords(data_dir, keywords, categories, frames=frames,\n",
    "                                                 winlen=window_len, winstep=window_step, nfilt=num_filt)\n",
    "    new_model = tf.keras.models.load_model(pjoin(CHECKPOINTS_PATH,\n",
    "                                                 f'CNNmodel_{int(window_len*1000)}ms_{int(window_step*1000)}ms_{num_filt}/'))\n",
    "    loss, acc = new_model.evaluate(np.transpose(X_test, [2,0,1]), tf.one_hot(Y_test, n_labels, 1, 0), verbose=2)\n",
    "    print(\"Test accuracy: {:5.8f}%\".format(100 * acc), \"\\n\")"
   ]
  },
  {
   "cell_type": "code",
   "execution_count": null,
   "id": "cade590f",
   "metadata": {},
   "outputs": [],
   "source": []
  }
 ],
 "metadata": {
  "kernelspec": {
   "display_name": "Python 3 (ipykernel)",
   "language": "python",
   "name": "python3"
  },
  "language_info": {
   "codemirror_mode": {
    "name": "ipython",
    "version": 3
   },
   "file_extension": ".py",
   "mimetype": "text/x-python",
   "name": "python",
   "nbconvert_exporter": "python",
   "pygments_lexer": "ipython3",
   "version": "3.8.10"
  }
 },
 "nbformat": 4,
 "nbformat_minor": 5
}

{
 "cells": [
  {
   "cell_type": "markdown",
   "id": "1f58f176",
   "metadata": {},
   "source": [
    "# Keyword Spotting with different architectures"
   ]
  },
  {
   "cell_type": "code",
   "execution_count": 1,
   "id": "341fb838",
   "metadata": {},
   "outputs": [
    {
     "name": "stderr",
     "output_type": "stream",
     "text": [
      "2022-12-17 13:04:37.336305: I tensorflow/core/platform/cpu_feature_guard.cc:193] This TensorFlow binary is optimized with oneAPI Deep Neural Network Library (oneDNN) to use the following CPU instructions in performance-critical operations:  AVX2 AVX512F AVX512_VNNI FMA\n",
      "To enable them in other operations, rebuild TensorFlow with the appropriate compiler flags.\n",
      "2022-12-17 13:04:37.504464: I tensorflow/core/util/port.cc:104] oneDNN custom operations are on. You may see slightly different numerical results due to floating-point round-off errors from different computation orders. To turn them off, set the environment variable `TF_ENABLE_ONEDNN_OPTS=0`.\n",
      "2022-12-17 13:04:37.511675: W tensorflow/compiler/xla/stream_executor/platform/default/dso_loader.cc:64] Could not load dynamic library 'libcudart.so.11.0'; dlerror: libcudart.so.11.0: cannot open shared object file: No such file or directory\n",
      "2022-12-17 13:04:37.511691: I tensorflow/compiler/xla/stream_executor/cuda/cudart_stub.cc:29] Ignore above cudart dlerror if you do not have a GPU set up on your machine.\n",
      "2022-12-17 13:04:38.150028: W tensorflow/compiler/xla/stream_executor/platform/default/dso_loader.cc:64] Could not load dynamic library 'libnvinfer.so.7'; dlerror: libnvinfer.so.7: cannot open shared object file: No such file or directory\n",
      "2022-12-17 13:04:38.150117: W tensorflow/compiler/xla/stream_executor/platform/default/dso_loader.cc:64] Could not load dynamic library 'libnvinfer_plugin.so.7'; dlerror: libnvinfer_plugin.so.7: cannot open shared object file: No such file or directory\n",
      "2022-12-17 13:04:38.150126: W tensorflow/compiler/tf2tensorrt/utils/py_utils.cc:38] TF-TRT Warning: Cannot dlopen some TensorRT libraries. If you would like to use Nvidia GPU with TensorRT, please make sure the missing libraries mentioned above are installed properly.\n"
     ]
    }
   ],
   "source": [
    "import numpy as np\n",
    "np.random.seed(1234)\n",
    "\n",
    "from os.path import join as pjoin\n",
    "import tensorflow as tf\n",
    "from tensorflow.keras.models import Model, load_model\n",
    "from tensorflow.keras.initializers import glorot_uniform\n",
    "from utils import load_dataset, load_dataset_keywords\n",
    "CHECKPOINTS_PATH = 'checkPoints/'"
   ]
  },
  {
   "cell_type": "markdown",
   "id": "fa1f869b",
   "metadata": {},
   "source": [
    "## Data loading"
   ]
  },
  {
   "cell_type": "code",
   "execution_count": 10,
   "id": "d659152b",
   "metadata": {},
   "outputs": [],
   "source": [
    "data_dir = 'speechdataset/processed_data'\n",
    "\n",
    "keywords = ['marvin', 'no', 'yes']\n",
    "\n",
    "categories = ['bed', 'down', 'forward', 'house', 'nine', 'one', 'six', 'tree', 'visual', 'bird', 'eight', \n",
    "              'four', 'learn', 'no','right', 'stop', 'two', 'wow', 'cat', 'five', 'go', 'left', 'off', \n",
    "              'seven', 'up', 'yes', 'backward', 'dog', 'follow', 'happy', 'marvin', 'on', 'sheila', 'three', 'zero']\n",
    "\n",
    "n_labels = len(keywords) + 1 # number of keywords + not a keyword\n",
    "\n",
    "X_train, Y_train, X_test, Y_test = load_dataset_keywords(data_dir, keywords)"
   ]
  },
  {
   "cell_type": "code",
   "execution_count": 3,
   "id": "2f56c410",
   "metadata": {},
   "outputs": [
    {
     "name": "stdout",
     "output_type": "stream",
     "text": [
      "(99, 39, 19587) (19587,)\n"
     ]
    }
   ],
   "source": [
    "print(X_train.shape, Y_train.shape)"
   ]
  },
  {
   "cell_type": "markdown",
   "id": "87b65bae",
   "metadata": {},
   "source": [
    "## Convolutional Neural Network Architecture"
   ]
  },
  {
   "cell_type": "code",
   "execution_count": 10,
   "id": "decd1fc9",
   "metadata": {},
   "outputs": [],
   "source": [
    "def KWS_CNN_model(input_shape):\n",
    "    \"\"\"\n",
    "    Arguments:\n",
    "    :param input_shape: shape of the data of the dataset\n",
    "\n",
    "    :returns Model: a tf.keras.Model() instance\n",
    "    \"\"\"\n",
    "    \n",
    "    X_input = tf.keras.Input(input_shape)\n",
    "    n_frames = input_shape[0]\n",
    "    \n",
    "    # CONV -> pooling -> CONV -> lin -> Dense?\n",
    "    # First convolution\n",
    "    X = tf.keras.layers.Conv2D(filters=94, kernel_size=(int(2*n_frames/3),8), strides = (1,1), \n",
    "                               padding = 'same', name='First_Conv')(X_input)\n",
    "    #Dropout\n",
    "    #X = Dropout(rate = 0.2)(X)\n",
    "    \n",
    "    #Pooling on time and frequency\n",
    "    X = tf.keras.layers.MaxPooling2D(pool_size=(2,3), strides=(2,3), padding='valid', name='MaxPooling')(X)\n",
    "    X = tf.keras.layers.Activation('relu')(X)\n",
    "    \n",
    "    #Second convolution\n",
    "    X = tf.keras.layers.Conv2D(filters=94, kernel_size=(int(n_frames/5),4), strides = (1,1), \n",
    "                               padding = 'same', name='Second_Conv')(X)\n",
    "    #Dropout\n",
    "    #X = Dropout(rate = 0.2)(X)\n",
    "    \n",
    "    X = tf.keras.layers.Activation('relu')(X)\n",
    "    \n",
    "    # Linear layer\n",
    "    X = tf.keras.layers.Flatten()(X)\n",
    "    X = tf.keras.layers.Dense(32, name='Linear')(X)\n",
    "    \n",
    "    # Dense layer\n",
    "    X = tf.keras.layers.Dense(128, activation='relu', name='Dense1')(X)\n",
    "    X = tf.keras.layers.Dense(128, activation='relu', name='Dense2')(X)\n",
    "    X = tf.keras.layers.Dense(128, activation='relu', name='Dense3')(X)  \n",
    "    \n",
    "    # Softmax\n",
    "    X = tf.keras.layers.Dense(n_labels, activation='softmax', name='Softmax')(X)\n",
    "    \n",
    "    # MODEL\n",
    "    model = Model(inputs = X_input, outputs = X, name='KWS_CNN')\n",
    "    \n",
    "    return model"
   ]
  },
  {
   "cell_type": "code",
   "execution_count": 11,
   "id": "35900339",
   "metadata": {},
   "outputs": [
    {
     "name": "stdout",
     "output_type": "stream",
     "text": [
      "Model: \"KWS_CNN\"\n",
      "_________________________________________________________________\n",
      " Layer (type)                Output Shape              Param #   \n",
      "=================================================================\n",
      " input_2 (InputLayer)        [(None, 99, 39, 1)]       0         \n",
      "                                                                 \n",
      " First_Conv (Conv2D)         (None, 99, 39, 94)        49726     \n",
      "                                                                 \n",
      " MaxPooling (MaxPooling2D)   (None, 49, 13, 94)        0         \n",
      "                                                                 \n",
      " activation_2 (Activation)   (None, 49, 13, 94)        0         \n",
      "                                                                 \n",
      " Second_Conv (Conv2D)        (None, 49, 13, 94)        671630    \n",
      "                                                                 \n",
      " activation_3 (Activation)   (None, 49, 13, 94)        0         \n",
      "                                                                 \n",
      " flatten_1 (Flatten)         (None, 59878)             0         \n",
      "                                                                 \n",
      " Linear (Dense)              (None, 32)                1916128   \n",
      "                                                                 \n",
      " Dense1 (Dense)              (None, 128)               4224      \n",
      "                                                                 \n",
      " Dense2 (Dense)              (None, 128)               16512     \n",
      "                                                                 \n",
      " Dense3 (Dense)              (None, 128)               16512     \n",
      "                                                                 \n",
      " Softmax (Dense)             (None, 8)                 1032      \n",
      "                                                                 \n",
      "=================================================================\n",
      "Total params: 2,675,764\n",
      "Trainable params: 2,675,764\n",
      "Non-trainable params: 0\n",
      "_________________________________________________________________\n"
     ]
    }
   ],
   "source": [
    "model = KWS_CNN_model((99,39,1))\n",
    "model.summary()"
   ]
  },
  {
   "cell_type": "code",
   "execution_count": 18,
   "id": "c8990a1e",
   "metadata": {},
   "outputs": [],
   "source": [
    "model.compile(optimizer=\"adam\", loss=tf.keras.losses.CategoricalCrossentropy(), metrics=[\"accuracy\"])"
   ]
  },
  {
   "cell_type": "code",
   "execution_count": null,
   "id": "9b864d5d",
   "metadata": {},
   "outputs": [],
   "source": [
    "# Train the model\n",
    "early_stop_callback = tf.keras.callbacks.EarlyStopping(monitor='val_loss', patience=5)\n",
    "\n",
    "# Fit\n",
    "#history = model.fit(np.transpose(X_train, [2,0,1]), Y_train, epochs=num_epochs, validation_split=0.1, callbacks=[early_stop_callback])\n",
    "\n",
    "una_jota = tf.one_hot(Y_train, n_labels, 1, 0)\n",
    "print(una_jota)\n",
    "history = model.fit(np.transpose(X_train, [2,0,1]), una_jota , epochs=100, batch_size=10,\n",
    "                    validation_split=0.1)"
   ]
  },
  {
   "cell_type": "code",
   "execution_count": null,
   "id": "8b9baa25",
   "metadata": {},
   "outputs": [],
   "source": [
    "model.save_weights(CHECKPOINTS_PATH)"
   ]
  },
  {
   "cell_type": "code",
   "execution_count": 21,
   "id": "9d75974b",
   "metadata": {},
   "outputs": [
    {
     "name": "stdout",
     "output_type": "stream",
     "text": [
      "109/109 - 49s - loss: 2.0072 - accuracy: 0.1675 - 49s/epoch - 446ms/step\n",
      "Restored model, accuracy: 16.75%\n"
     ]
    }
   ],
   "source": [
    "# Loads the weights\n",
    "model.load_weights(CHECKPOINTS_PATH)\n",
    "\n",
    "# Re-evaluate the model\n",
    "loss, acc = model.evaluate(np.transpose(X_test, [2,0,1]), tf.one_hot(Y_test, n_labels, 1, 0), verbose=2)\n",
    "print(\"Restored model, accuracy: {:5.2f}%\".format(100 * acc))"
   ]
  },
  {
   "cell_type": "markdown",
   "id": "131055a0",
   "metadata": {},
   "source": [
    "## Clustering, RNN, ..."
   ]
  },
  {
   "cell_type": "code",
   "execution_count": null,
   "id": "4778417b",
   "metadata": {},
   "outputs": [],
   "source": [
    "model"
   ]
  }
 ],
 "metadata": {
  "kernelspec": {
   "display_name": "Python 3 (ipykernel)",
   "language": "python",
   "name": "python3"
  },
  "language_info": {
   "codemirror_mode": {
    "name": "ipython",
    "version": 3
   },
   "file_extension": ".py",
   "mimetype": "text/x-python",
   "name": "python",
   "nbconvert_exporter": "python",
   "pygments_lexer": "ipython3",
   "version": "3.8.10"
  }
 },
 "nbformat": 4,
 "nbformat_minor": 5
}

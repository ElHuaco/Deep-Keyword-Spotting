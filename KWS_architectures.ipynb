{
 "cells": [
  {
   "cell_type": "markdown",
   "id": "1f58f176",
   "metadata": {},
   "source": [
    "# Keyword Spotting with different architectures"
   ]
  },
  {
   "cell_type": "code",
   "execution_count": 1,
   "id": "341fb838",
   "metadata": {
    "scrolled": true
   },
   "outputs": [
    {
     "name": "stderr",
     "output_type": "stream",
     "text": [
      "2022-12-19 18:46:21.038385: I tensorflow/core/platform/cpu_feature_guard.cc:193] This TensorFlow binary is optimized with oneAPI Deep Neural Network Library (oneDNN) to use the following CPU instructions in performance-critical operations:  AVX2 AVX512F AVX512_VNNI FMA\n",
      "To enable them in other operations, rebuild TensorFlow with the appropriate compiler flags.\n",
      "2022-12-19 18:46:21.217231: I tensorflow/core/util/port.cc:104] oneDNN custom operations are on. You may see slightly different numerical results due to floating-point round-off errors from different computation orders. To turn them off, set the environment variable `TF_ENABLE_ONEDNN_OPTS=0`.\n",
      "2022-12-19 18:46:21.223372: W tensorflow/compiler/xla/stream_executor/platform/default/dso_loader.cc:64] Could not load dynamic library 'libcudart.so.11.0'; dlerror: libcudart.so.11.0: cannot open shared object file: No such file or directory\n",
      "2022-12-19 18:46:21.223390: I tensorflow/compiler/xla/stream_executor/cuda/cudart_stub.cc:29] Ignore above cudart dlerror if you do not have a GPU set up on your machine.\n",
      "2022-12-19 18:46:21.848441: W tensorflow/compiler/xla/stream_executor/platform/default/dso_loader.cc:64] Could not load dynamic library 'libnvinfer.so.7'; dlerror: libnvinfer.so.7: cannot open shared object file: No such file or directory\n",
      "2022-12-19 18:46:21.848510: W tensorflow/compiler/xla/stream_executor/platform/default/dso_loader.cc:64] Could not load dynamic library 'libnvinfer_plugin.so.7'; dlerror: libnvinfer_plugin.so.7: cannot open shared object file: No such file or directory\n",
      "2022-12-19 18:46:21.848517: W tensorflow/compiler/tf2tensorrt/utils/py_utils.cc:38] TF-TRT Warning: Cannot dlopen some TensorRT libraries. If you would like to use Nvidia GPU with TensorRT, please make sure the missing libraries mentioned above are installed properly.\n"
     ]
    }
   ],
   "source": [
    "import numpy as np\n",
    "np.random.seed(1234)\n",
    "\n",
    "from os.path import join as pjoin\n",
    "from pathlib import Path\n",
    "import tensorflow as tf\n",
    "from tensorflow.keras.models import Model, load_model\n",
    "from tensorflow.keras.initializers import glorot_uniform\n",
    "from load_utils import load_dataset, load_dataset_keywords\n",
    "from CNNarchitectures import KWS_CNN_model\n",
    "CHECKPOINTS_PATH = 'models/'"
   ]
  },
  {
   "cell_type": "markdown",
   "id": "ae1eed0a",
   "metadata": {},
   "source": [
    "## Training increasing keywords"
   ]
  },
  {
   "cell_type": "code",
   "execution_count": null,
   "id": "95de75b1",
   "metadata": {},
   "outputs": [],
   "source": [
    "# Training with different keywords\n",
    "data_dir = 'speechdataset/processed_data'\n",
    "\n",
    "categories = ['marvin', 'no', 'yes', 'bed', 'down', 'forward', 'happy', 'house', 'tree', 'visual', 'bird',\n",
    "              'eight', 'four', 'learn','right', 'stop', 'two', 'wow', 'cat', 'five', 'nine', 'one', 'six',\n",
    "              'go', 'left', 'off', 'seven', 'up', 'backward', 'dog', 'follow', 'on', 'sheila', 'three', 'zero']\n",
    "\n",
    "# Early stopping criteria\n",
    "early_stop_callback = tf.keras.callbacks.EarlyStopping(monitor='val_loss', min_delta=1e-5, patience=1)\n",
    "\n",
    "\n",
    "for n_keywords in np.arange(4, 11, 1):\n",
    "    keywords = categories[:int(n_keywords)]\n",
    "    n_labels = n_keywords + 1 # number of keywords + not a keyword\n",
    "\n",
    "    print(f'Training with ', n_keywords, 'keywords:', keywords)\n",
    "    \n",
    "    print('Loading data...')\n",
    "    # Load data\n",
    "    X_train, Y_train, X_test, Y_test = load_dataset_keywords(data_dir, keywords, categories, frames=50,\n",
    "                                                             winlen=0.025, winstep=0.02, nfilt=26)\n",
    "    \n",
    "    print('Data loaded. Training...')\n",
    "    model = KWS_CNN_model((50,39,1), dropout=20, norm='False')\n",
    "    model.compile(optimizer=\"adam\", loss=tf.keras.losses.CategoricalCrossentropy(), metrics=[\"accuracy\"])\n",
    "\n",
    "    model.fit(np.transpose(X_train, [2,0,1]), tf.one_hot(Y_train, n_labels, 1, 0), epochs=5, batch_size=10,\n",
    "                        validation_split=0.1, callbacks=[early_stop_callback])\n",
    "\n",
    "    model.save(pjoin(CHECKPOINTS_PATH, f'CNNbestmodel_25ms_20ms_26_{n_keywords}keywords'))\n",
    "\n",
    "    loss, acc = model.evaluate(np.transpose(X_test, [2,0,1]), tf.one_hot(Y_test, n_labels, 1, 0), verbose=2)\n",
    "    print(\"Test accuracy: {:5.2f}%\".format(100 * acc))"
   ]
  },
  {
   "cell_type": "code",
   "execution_count": null,
   "id": "6406d809",
   "metadata": {},
   "outputs": [],
   "source": [
    "# Results\n",
    "print(f'Training best model with ', 3, 'keywords:', ['marvin', 'no', 'yes'])\n",
    "new_model = tf.keras.models.load_model(pjoin(CHECKPOINTS_PATH,\n",
    "                                            f'CNNmodel_25ms_20ms_26_dropout20'))\n",
    "loss, acc = new_model.evaluate(np.transpose(X_test, [2,0,1]), tf.one_hot(Y_test, n_labels, 1, 0), verbose=2)\n",
    "\n",
    "for n_keywords in np.arange(4, 11, 1)::\n",
    "    print(f'Training best model with ', n_keywords, 'keywords:', keywords)\n",
    "    new_model = tf.keras.models.load_model(pjoin(CHECKPOINTS_PATH,\n",
    "                                                 f'CNNbestmodel_25ms_20ms_26_{n_keywords}keywords'))\n",
    "    loss, acc = new_model.evaluate(np.transpose(X_test, [2,0,1]), tf.one_hot(Y_test, n_labels, 1, 0), verbose=2)\n",
    "    print(\"Test accuracy: {:5.8f}%\".format(100 * acc), \"\\n\")"
   ]
  },
  {
   "cell_type": "markdown",
   "id": "131055a0",
   "metadata": {},
   "source": [
    "## Training with different dropout"
   ]
  },
  {
   "cell_type": "code",
   "execution_count": 2,
   "id": "0b02fa58",
   "metadata": {},
   "outputs": [],
   "source": [
    "data_dir = 'speechdataset/processed_data'\n",
    "\n",
    "keywords = ['marvin', 'no', 'yes']\n",
    "\n",
    "categories = ['bed', 'down', 'forward', 'house', 'nine', 'one', 'six', 'tree', 'visual', 'bird', 'eight', \n",
    "              'four', 'learn', 'no','right', 'stop', 'two', 'wow', 'cat', 'five', 'go', 'left', 'off', \n",
    "              'seven', 'up', 'yes', 'backward', 'dog', 'follow', 'happy', 'marvin', 'on', 'sheila', 'three', 'zero']\n",
    "\n",
    "n_labels = len(keywords) + 1 # number of keywords + not a keyword\n",
    "\n",
    "# Load data\n",
    "X_train, Y_train, X_test, Y_test = load_dataset_keywords(data_dir, keywords, categories, frames=50,\n",
    "                                                         winlen=0.025, winstep=0.02, nfilt=26)"
   ]
  },
  {
   "cell_type": "code",
   "execution_count": 10,
   "id": "4778417b",
   "metadata": {},
   "outputs": [
    {
     "name": "stdout",
     "output_type": "stream",
     "text": [
      "Training with  0.1 dropout\n",
      "Epoch 1/5\n",
      "8096/8096 [==============================] - 980s 121ms/step - loss: 0.2266 - accuracy: 0.9384 - val_loss: 0.1349 - val_accuracy: 0.9576\n",
      "Epoch 2/5\n",
      "8096/8096 [==============================] - 996s 123ms/step - loss: 0.1100 - accuracy: 0.9660 - val_loss: 0.1092 - val_accuracy: 0.9663\n",
      "Epoch 3/5\n",
      "8096/8096 [==============================] - 1030s 127ms/step - loss: 0.0847 - accuracy: 0.9744 - val_loss: 0.1170 - val_accuracy: 0.9654\n"
     ]
    },
    {
     "name": "stderr",
     "output_type": "stream",
     "text": [
      "WARNING:absl:Found untraced functions such as _jit_compiled_convolution_op, _jit_compiled_convolution_op, _update_step_xla while saving (showing 3 of 3). These functions will not be directly callable after loading.\n"
     ]
    },
    {
     "name": "stdout",
     "output_type": "stream",
     "text": [
      "INFO:tensorflow:Assets written to: models/CNNmodel_25ms_20ms_26_dropout10/assets\n"
     ]
    },
    {
     "name": "stderr",
     "output_type": "stream",
     "text": [
      "INFO:tensorflow:Assets written to: models/CNNmodel_25ms_20ms_26_dropout10/assets\n"
     ]
    },
    {
     "name": "stdout",
     "output_type": "stream",
     "text": [
      "497/497 - 78s - loss: 0.1177 - accuracy: 0.9640 - 78s/epoch - 156ms/step\n",
      "Test accuracy: 96.40%\n",
      "Training with  0.15 dropout\n",
      "Epoch 1/5\n",
      "8096/8096 [==============================] - 1095s 135ms/step - loss: 0.2359 - accuracy: 0.9363 - val_loss: 0.1321 - val_accuracy: 0.9572\n",
      "Epoch 2/5\n",
      "8096/8096 [==============================] - 1089s 134ms/step - loss: 0.1157 - accuracy: 0.9636 - val_loss: 0.1088 - val_accuracy: 0.9660\n",
      "Epoch 3/5\n",
      "8096/8096 [==============================] - 1119s 138ms/step - loss: 0.0885 - accuracy: 0.9727 - val_loss: 0.0933 - val_accuracy: 0.9741\n",
      "Epoch 4/5\n",
      "8096/8096 [==============================] - 1084s 134ms/step - loss: 0.0750 - accuracy: 0.9772 - val_loss: 0.0819 - val_accuracy: 0.9742\n",
      "Epoch 5/5\n",
      "8096/8096 [==============================] - 1083s 134ms/step - loss: 0.0635 - accuracy: 0.9805 - val_loss: 0.0867 - val_accuracy: 0.9743\n"
     ]
    },
    {
     "name": "stderr",
     "output_type": "stream",
     "text": [
      "WARNING:absl:Found untraced functions such as _jit_compiled_convolution_op, _jit_compiled_convolution_op, _update_step_xla while saving (showing 3 of 3). These functions will not be directly callable after loading.\n"
     ]
    },
    {
     "name": "stdout",
     "output_type": "stream",
     "text": [
      "INFO:tensorflow:Assets written to: models/CNNmodel_25ms_20ms_26_dropout15/assets\n"
     ]
    },
    {
     "name": "stderr",
     "output_type": "stream",
     "text": [
      "INFO:tensorflow:Assets written to: models/CNNmodel_25ms_20ms_26_dropout15/assets\n"
     ]
    },
    {
     "name": "stdout",
     "output_type": "stream",
     "text": [
      "497/497 - 77s - loss: 0.0770 - accuracy: 0.9744 - 77s/epoch - 156ms/step\n",
      "Test accuracy: 97.44%\n",
      "Training with  0.25 dropout\n",
      "Epoch 1/5\n",
      "8096/8096 [==============================] - 1094s 135ms/step - loss: 0.2300 - accuracy: 0.9382 - val_loss: 0.1167 - val_accuracy: 0.9633\n",
      "Epoch 2/5\n",
      "8096/8096 [==============================] - 1083s 134ms/step - loss: 0.1159 - accuracy: 0.9637 - val_loss: 0.1295 - val_accuracy: 0.9711\n"
     ]
    },
    {
     "name": "stderr",
     "output_type": "stream",
     "text": [
      "WARNING:absl:Found untraced functions such as _jit_compiled_convolution_op, _jit_compiled_convolution_op, _update_step_xla while saving (showing 3 of 3). These functions will not be directly callable after loading.\n"
     ]
    },
    {
     "name": "stdout",
     "output_type": "stream",
     "text": [
      "INFO:tensorflow:Assets written to: models/CNNmodel_25ms_20ms_26_dropout25/assets\n"
     ]
    },
    {
     "name": "stderr",
     "output_type": "stream",
     "text": [
      "INFO:tensorflow:Assets written to: models/CNNmodel_25ms_20ms_26_dropout25/assets\n"
     ]
    },
    {
     "name": "stdout",
     "output_type": "stream",
     "text": [
      "497/497 - 78s - loss: 0.1315 - accuracy: 0.9712 - 78s/epoch - 156ms/step\n",
      "Test accuracy: 97.12%\n",
      "Training with  0.3 dropout\n",
      "Epoch 1/5\n",
      "8096/8096 [==============================] - 1098s 136ms/step - loss: 0.2366 - accuracy: 0.9361 - val_loss: 0.1898 - val_accuracy: 0.9499\n",
      "Epoch 2/5\n",
      "8096/8096 [==============================] - 1024s 126ms/step - loss: 0.1160 - accuracy: 0.9632 - val_loss: 0.1260 - val_accuracy: 0.9691\n",
      "Epoch 3/5\n",
      "8096/8096 [==============================] - 1009s 125ms/step - loss: 0.0932 - accuracy: 0.9707 - val_loss: 0.1172 - val_accuracy: 0.9712\n",
      "Epoch 4/5\n",
      "8096/8096 [==============================] - 1041s 129ms/step - loss: 0.0776 - accuracy: 0.9757 - val_loss: 0.0902 - val_accuracy: 0.9749\n",
      "Epoch 5/5\n",
      "8096/8096 [==============================] - 1032s 127ms/step - loss: 0.0681 - accuracy: 0.9794 - val_loss: 0.1082 - val_accuracy: 0.9720\n"
     ]
    },
    {
     "name": "stderr",
     "output_type": "stream",
     "text": [
      "WARNING:absl:Found untraced functions such as _jit_compiled_convolution_op, _jit_compiled_convolution_op, _update_step_xla while saving (showing 3 of 3). These functions will not be directly callable after loading.\n"
     ]
    },
    {
     "name": "stdout",
     "output_type": "stream",
     "text": [
      "INFO:tensorflow:Assets written to: models/CNNmodel_25ms_20ms_26_dropout30/assets\n"
     ]
    },
    {
     "name": "stderr",
     "output_type": "stream",
     "text": [
      "INFO:tensorflow:Assets written to: models/CNNmodel_25ms_20ms_26_dropout30/assets\n"
     ]
    },
    {
     "name": "stdout",
     "output_type": "stream",
     "text": [
      "497/497 - 71s - loss: 0.1087 - accuracy: 0.9711 - 71s/epoch - 143ms/step\n",
      "Test accuracy: 97.11%\n",
      "Training with  0.35 dropout\n",
      "Epoch 1/5\n",
      "8096/8096 [==============================] - 997s 123ms/step - loss: 0.2385 - accuracy: 0.9341 - val_loss: 0.1987 - val_accuracy: 0.9548\n",
      "Epoch 2/5\n",
      "8096/8096 [==============================] - 1004s 124ms/step - loss: 0.1215 - accuracy: 0.9616 - val_loss: 0.1210 - val_accuracy: 0.9669\n",
      "Epoch 3/5\n",
      "8096/8096 [==============================] - 992s 122ms/step - loss: 0.0953 - accuracy: 0.9695 - val_loss: 0.1016 - val_accuracy: 0.9742\n",
      "Epoch 4/5\n",
      "8096/8096 [==============================] - 983s 121ms/step - loss: 0.0794 - accuracy: 0.9758 - val_loss: 0.1118 - val_accuracy: 0.9725\n"
     ]
    },
    {
     "name": "stderr",
     "output_type": "stream",
     "text": [
      "WARNING:absl:Found untraced functions such as _jit_compiled_convolution_op, _jit_compiled_convolution_op, _update_step_xla while saving (showing 3 of 3). These functions will not be directly callable after loading.\n"
     ]
    },
    {
     "name": "stdout",
     "output_type": "stream",
     "text": [
      "INFO:tensorflow:Assets written to: models/CNNmodel_25ms_20ms_26_dropout35/assets\n"
     ]
    },
    {
     "name": "stderr",
     "output_type": "stream",
     "text": [
      "INFO:tensorflow:Assets written to: models/CNNmodel_25ms_20ms_26_dropout35/assets\n"
     ]
    },
    {
     "name": "stdout",
     "output_type": "stream",
     "text": [
      "497/497 - 71s - loss: 0.1128 - accuracy: 0.9724 - 71s/epoch - 142ms/step\n",
      "Test accuracy: 97.24%\n",
      "Training with  0.4 dropout\n",
      "Epoch 1/5\n",
      "8096/8096 [==============================] - 989s 122ms/step - loss: 0.2355 - accuracy: 0.9356 - val_loss: 0.1397 - val_accuracy: 0.9516\n",
      "Epoch 2/5\n",
      "8096/8096 [==============================] - 977s 121ms/step - loss: 0.1200 - accuracy: 0.9620 - val_loss: 0.1320 - val_accuracy: 0.9640\n",
      "Epoch 3/5\n",
      "8096/8096 [==============================] - 1060s 131ms/step - loss: 0.0978 - accuracy: 0.9697 - val_loss: 0.1048 - val_accuracy: 0.9698\n",
      "Epoch 4/5\n",
      "8096/8096 [==============================] - 1078s 133ms/step - loss: 0.0823 - accuracy: 0.9745 - val_loss: 0.1341 - val_accuracy: 0.9712\n"
     ]
    },
    {
     "name": "stderr",
     "output_type": "stream",
     "text": [
      "WARNING:absl:Found untraced functions such as _jit_compiled_convolution_op, _jit_compiled_convolution_op, _update_step_xla while saving (showing 3 of 3). These functions will not be directly callable after loading.\n"
     ]
    },
    {
     "name": "stdout",
     "output_type": "stream",
     "text": [
      "INFO:tensorflow:Assets written to: models/CNNmodel_25ms_20ms_26_dropout40/assets\n"
     ]
    },
    {
     "name": "stderr",
     "output_type": "stream",
     "text": [
      "INFO:tensorflow:Assets written to: models/CNNmodel_25ms_20ms_26_dropout40/assets\n"
     ]
    },
    {
     "name": "stdout",
     "output_type": "stream",
     "text": [
      "497/497 - 77s - loss: 0.1322 - accuracy: 0.9736 - 77s/epoch - 155ms/step\n",
      "Test accuracy: 97.36%\n",
      "Training with  0.45 dropout\n",
      "Epoch 1/5\n",
      "8096/8096 [==============================] - 1089s 134ms/step - loss: 0.2393 - accuracy: 0.9339 - val_loss: 0.1944 - val_accuracy: 0.9589\n",
      "Epoch 2/5\n",
      "8096/8096 [==============================] - 1083s 134ms/step - loss: 0.1254 - accuracy: 0.9611 - val_loss: 0.1418 - val_accuracy: 0.9670\n",
      "Epoch 3/5\n",
      "8096/8096 [==============================] - 1082s 134ms/step - loss: 0.1023 - accuracy: 0.9684 - val_loss: 0.1519 - val_accuracy: 0.9670\n"
     ]
    },
    {
     "name": "stderr",
     "output_type": "stream",
     "text": [
      "WARNING:absl:Found untraced functions such as _jit_compiled_convolution_op, _jit_compiled_convolution_op, _update_step_xla while saving (showing 3 of 3). These functions will not be directly callable after loading.\n"
     ]
    },
    {
     "name": "stdout",
     "output_type": "stream",
     "text": [
      "INFO:tensorflow:Assets written to: models/CNNmodel_25ms_20ms_26_dropout45/assets\n"
     ]
    },
    {
     "name": "stderr",
     "output_type": "stream",
     "text": [
      "INFO:tensorflow:Assets written to: models/CNNmodel_25ms_20ms_26_dropout45/assets\n"
     ]
    },
    {
     "name": "stdout",
     "output_type": "stream",
     "text": [
      "497/497 - 78s - loss: 0.1484 - accuracy: 0.9697 - 78s/epoch - 156ms/step\n",
      "Test accuracy: 96.97%\n",
      "Training with  0.5 dropout\n",
      "Epoch 1/5\n",
      "8096/8096 [==============================] - 1089s 134ms/step - loss: 0.2496 - accuracy: 0.9321 - val_loss: 0.1751 - val_accuracy: 0.9515\n",
      "Epoch 2/5\n",
      "8096/8096 [==============================] - 1077s 133ms/step - loss: 0.1314 - accuracy: 0.9589 - val_loss: 0.1636 - val_accuracy: 0.9542\n",
      "Epoch 3/5\n",
      "8096/8096 [==============================] - 1085s 134ms/step - loss: 0.1029 - accuracy: 0.9678 - val_loss: 0.1178 - val_accuracy: 0.9648\n",
      "Epoch 4/5\n",
      "8096/8096 [==============================] - 1058s 131ms/step - loss: 0.0897 - accuracy: 0.9723 - val_loss: 0.1117 - val_accuracy: 0.9703\n",
      "Epoch 5/5\n",
      "8096/8096 [==============================] - 1005s 124ms/step - loss: 0.0801 - accuracy: 0.9743 - val_loss: 0.1136 - val_accuracy: 0.9711\n"
     ]
    },
    {
     "name": "stderr",
     "output_type": "stream",
     "text": [
      "WARNING:absl:Found untraced functions such as _jit_compiled_convolution_op, _jit_compiled_convolution_op, _update_step_xla while saving (showing 3 of 3). These functions will not be directly callable after loading.\n"
     ]
    },
    {
     "name": "stdout",
     "output_type": "stream",
     "text": [
      "INFO:tensorflow:Assets written to: models/CNNmodel_25ms_20ms_26_dropout50/assets\n"
     ]
    },
    {
     "name": "stderr",
     "output_type": "stream",
     "text": [
      "INFO:tensorflow:Assets written to: models/CNNmodel_25ms_20ms_26_dropout50/assets\n"
     ]
    },
    {
     "name": "stdout",
     "output_type": "stream",
     "text": [
      "497/497 - 75s - loss: 0.1100 - accuracy: 0.9740 - 75s/epoch - 151ms/step\n",
      "Test accuracy: 97.40%\n"
     ]
    }
   ],
   "source": [
    "# Parameters\n",
    "dropouts = [0.1, 0.15, 0.25, 0.3, 0.35, 0.4, 0.45, 0.5]\n",
    "norm = 'False'\n",
    "\n",
    "# Early stopping criteria\n",
    "early_stop_callback = tf.keras.callbacks.EarlyStopping(monitor='val_loss', min_delta=1e-5, patience=1)\n",
    "\n",
    "\n",
    "for dropout in dropouts:\n",
    "    print(f'Training with ', dropout, 'dropout')\n",
    "\n",
    "    model = KWS_CNN_model((50,39,1), dropout=dropout, norm=norm)\n",
    "    model.compile(optimizer=\"adam\", loss=tf.keras.losses.CategoricalCrossentropy(), metrics=[\"accuracy\"])\n",
    "\n",
    "    model.fit(np.transpose(X_train, [2,0,1]), tf.one_hot(Y_train, n_labels, 1, 0), epochs=5, batch_size=10,\n",
    "                        validation_split=0.1, callbacks=[early_stop_callback])\n",
    "\n",
    "    model.save(pjoin(CHECKPOINTS_PATH, f'CNNmodel_25ms_20ms_26_dropout{int(dropout*100)}'))\n",
    "\n",
    "    loss, acc = model.evaluate(np.transpose(X_test, [2,0,1]), tf.one_hot(Y_test, n_labels, 1, 0), verbose=2)\n",
    "    print(\"Test accuracy: {:5.2f}%\".format(100 * acc))"
   ]
  },
  {
   "cell_type": "code",
   "execution_count": 11,
   "id": "77f878ce",
   "metadata": {},
   "outputs": [
    {
     "name": "stdout",
     "output_type": "stream",
     "text": [
      "Training with 0.1 dropout\n",
      "497/497 - 76s - loss: 0.1177 - accuracy: 0.9640 - 76s/epoch - 153ms/step\n",
      "Test accuracy: 96.39685154% \n",
      "\n",
      "Training with 0.15 dropout\n",
      "497/497 - 76s - loss: 0.0770 - accuracy: 0.9744 - 76s/epoch - 154ms/step\n",
      "Test accuracy: 97.43621945% \n",
      "\n",
      "Training with 0.2 dropout\n",
      "497/497 - 76s - loss: 0.0925 - accuracy: 0.9772 - 76s/epoch - 153ms/step\n",
      "Test accuracy: 97.71968722% \n",
      "\n",
      "Training with 0.25 dropout\n",
      "497/497 - 77s - loss: 0.1315 - accuracy: 0.9712 - 77s/epoch - 154ms/step\n",
      "Test accuracy: 97.12126255% \n",
      "\n",
      "Training with 0.3 dropout\n",
      "497/497 - 78s - loss: 0.1087 - accuracy: 0.9711 - 78s/epoch - 157ms/step\n",
      "Test accuracy: 97.10866213% \n",
      "\n",
      "Training with 0.35 dropout\n",
      "497/497 - 79s - loss: 0.1128 - accuracy: 0.9724 - 79s/epoch - 158ms/step\n",
      "Test accuracy: 97.24094272% \n",
      "\n",
      "Training with 0.4 dropout\n",
      "497/497 - 78s - loss: 0.1322 - accuracy: 0.9736 - 78s/epoch - 157ms/step\n",
      "Test accuracy: 97.36062884% \n",
      "\n",
      "Training with 0.45 dropout\n",
      "497/497 - 77s - loss: 0.1484 - accuracy: 0.9697 - 77s/epoch - 155ms/step\n",
      "Test accuracy: 96.97008133% \n",
      "\n",
      "Training with 0.5 dropout\n",
      "497/497 - 77s - loss: 0.1100 - accuracy: 0.9740 - 77s/epoch - 155ms/step\n",
      "Test accuracy: 97.40472436% \n",
      "\n"
     ]
    }
   ],
   "source": [
    "dropouts = [0.1, 0.15, 0.2, 0.25, 0.3, 0.35, 0.4, 0.45, 0.5]\n",
    "for dropout in dropouts:\n",
    "    print(f'Training with', dropout, 'dropout')\n",
    "    new_model = tf.keras.models.load_model(pjoin(CHECKPOINTS_PATH,\n",
    "                                                 f'CNNmodel_25ms_20ms_26_dropout{int(dropout*100)}'))\n",
    "    loss, acc = new_model.evaluate(np.transpose(X_test, [2,0,1]), tf.one_hot(Y_test, n_labels, 1, 0), verbose=2)\n",
    "    print(\"Test accuracy: {:5.8f}%\".format(100 * acc), \"\\n\")"
   ]
  }
 ],
 "metadata": {
  "kernelspec": {
   "display_name": "Python 3 (ipykernel)",
   "language": "python",
   "name": "python3"
  },
  "language_info": {
   "codemirror_mode": {
    "name": "ipython",
    "version": 3
   },
   "file_extension": ".py",
   "mimetype": "text/x-python",
   "name": "python",
   "nbconvert_exporter": "python",
   "pygments_lexer": "ipython3",
   "version": "3.8.10"
  }
 },
 "nbformat": 4,
 "nbformat_minor": 5
}
